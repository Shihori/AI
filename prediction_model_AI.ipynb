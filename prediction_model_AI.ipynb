{
  "nbformat": 4,
  "nbformat_minor": 0,
  "metadata": {
    "colab": {
      "provenance": [],
      "toc_visible": true,
      "authorship_tag": "ABX9TyMeicGmvGoaUJHUDfy37Zp9",
      "include_colab_link": true
    },
    "kernelspec": {
      "name": "python3",
      "display_name": "Python 3"
    },
    "language_info": {
      "name": "python"
    }
  },
  "cells": [
    {
      "cell_type": "markdown",
      "metadata": {
        "id": "view-in-github",
        "colab_type": "text"
      },
      "source": [
        "<a href=\"https://colab.research.google.com/github/Shihori/AI/blob/main/prediction_model_AI.ipynb\" target=\"_parent\"><img src=\"https://colab.research.google.com/assets/colab-badge.svg\" alt=\"Open In Colab\"/></a>"
      ]
    },
    {
      "cell_type": "code",
      "source": [
        "# prompt: サイコロを実装する\n",
        "\n",
        "import random\n",
        "\n",
        "def roll_dice():\n",
        "  \"\"\"Rolls a six-sided dice and returns the result.\"\"\"\n",
        "  return random.randint(1, 6)\n",
        "\n",
        "# Roll the dice and print the result.\n",
        "print(roll_dice())\n"
      ],
      "metadata": {
        "colab": {
          "base_uri": "https://localhost:8080/"
        },
        "id": "YwZ6h3TRNaO8",
        "outputId": "be8a1c1c-33c2-4777-ba00-a7973b377818"
      },
      "execution_count": null,
      "outputs": [
        {
          "output_type": "stream",
          "name": "stdout",
          "text": [
            "3\n"
          ]
        }
      ]
    },
    {
      "cell_type": "code",
      "source": [
        "# prompt: mydrive内のフォルダ中の画像データを学習して数値を予測するコードを書いてください\n",
        "\n",
        "# Import necessary libraries\n",
        "import os\n",
        "from PIL import Image\n",
        "import numpy as np\n",
        "from sklearn.model_selection import train_test_split\n",
        "from sklearn.linear_model import LinearRegression\n",
        "\n",
        "# Define the path to the image folder in Google Drive\n",
        "image_folder_path = '/content/drive/MyDrive/image_data'\n",
        "\n",
        "# Load the images and convert them to grayscale\n",
        "images = []\n",
        "for filename in os.listdir(image_folder_path):\n",
        "  image = Image.open(os.path.join(image_folder_path, filename)).convert('L')\n",
        "  images.append(np.array(image))\n",
        "\n",
        "# Convert the images to a single array\n",
        "images_array = np.array(images)\n",
        "\n",
        "# Flatten the array\n",
        "images_flattened = images_array.reshape(images_array.shape[0], -1)\n",
        "\n",
        "# Load the labels from a CSV file in Google Drive\n",
        "labels_path = '/content/drive/MyDrive/image_data/labels.csv'\n",
        "labels = pd.read_csv(labels_path)\n",
        "\n",
        "# Split the data into training and testing sets\n",
        "X_train, X_test, y_train, y_test = train_test_split(images_flattened, labels['label'], test_size=0.2)\n",
        "\n",
        "# Train the linear regression model\n",
        "model = LinearRegression()\n",
        "model.fit(X_train, y_train)\n",
        "\n",
        "# Evaluate the model on the test set\n",
        "score = model.score(X_test, y_test)\n",
        "print('Model score:', score)\n",
        "\n",
        "# Predict the label for a new image\n",
        "new_image_path = '/content/drive/MyDrive/image_data/new_image.jpg'\n",
        "new_image = Image.open(new_image_path).convert('L')\n",
        "new_image_flattened = np.array(new_image).reshape(1, -1)\n",
        "predicted_label = model.predict(new_image_flattened)[0]\n",
        "print('Predicted label:', predicted_label)\n"
      ],
      "metadata": {
        "id": "Qjb82sTyNmCY"
      },
      "execution_count": null,
      "outputs": []
    }
  ]
}